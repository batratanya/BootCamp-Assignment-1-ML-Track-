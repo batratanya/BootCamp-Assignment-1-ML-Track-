{
 "cells": [
  {
   "cell_type": "markdown",
   "metadata": {},
   "source": [
    "# Assignment 1(b)"
   ]
  },
  {
   "cell_type": "markdown",
   "metadata": {},
   "source": [
    "## 4. Build a program to predict the correct word for wrongly typed word."
   ]
  },
  {
   "cell_type": "markdown",
   "metadata": {},
   "source": [
    "#### Method 1:"
   ]
  },
  {
   "cell_type": "code",
   "execution_count": 2,
   "metadata": {},
   "outputs": [],
   "source": [
    "import re\n",
    "from collections import Counter\n",
    "\n",
    "def words(text): \n",
    "    return re.findall(r'\\w+', text.lower())\n",
    "\n",
    "WORDS = Counter(words(open('C:\\\\Users\\\\dell\\\\Downloads\\\\Assignment 1\\\\assignment 1\\\\big.txt').read()))\n",
    "\n",
    "def probability(word, N=sum(WORDS.values())):         # Gives the probability of 'word'. \n",
    "    return WORDS[word] / N\n",
    "\n",
    "def correction(word):                                 # Most probable spelling correction for word.\n",
    "    return max(possibilities(word), key=probability)\n",
    "\n",
    "def possibilities(word):                              # Generates all possible spelling corrections for word.\n",
    "    return (known([word]) or known(first_level(word)) or known(second_level(word)) or [word])\n",
    "\n",
    "def known(words):                                     # The subset of `words` that appear in the dictionary of WORDS.\n",
    "    return set(w for w in words if w in WORDS)\n",
    "\n",
    "def first_level(word):                                # All edits that are one edit away from 'word'.\n",
    "    letters    = 'abcdefghijklmnopqrstuvwxyz'\n",
    "    splits     = [(word[:i], word[i:])    for i in range(len(word) + 1)]\n",
    "    deletes    = [L + R[1:]               for L, R in splits if R]\n",
    "    transposes = [L + R[1] + R[0] + R[2:] for L, R in splits if len(R)>1]\n",
    "    replaces   = [L + c + R[1:]           for L, R in splits if R for c in letters]\n",
    "    inserts    = [L + c + R               for L, R in splits for c in letters]\n",
    "    return set(deletes + transposes + replaces + inserts)\n",
    "\n",
    "def second_level(word):                               # All edits that are two edits away from 'word'.\n",
    "    return (e2 for e1 in first_level(word) for e2 in first_level(e1))\n",
    "\n"
   ]
  },
  {
   "cell_type": "code",
   "execution_count": 50,
   "metadata": {},
   "outputs": [
    {
     "data": {
      "text/plain": [
       "'what'"
      ]
     },
     "execution_count": 50,
     "metadata": {},
     "output_type": "execute_result"
    }
   ],
   "source": [
    "correction('whst')"
   ]
  },
  {
   "cell_type": "code",
   "execution_count": 51,
   "metadata": {},
   "outputs": [
    {
     "data": {
      "text/plain": [
       "'heels'"
      ]
     },
     "execution_count": 51,
     "metadata": {},
     "output_type": "execute_result"
    }
   ],
   "source": [
    "correction('heeelo')"
   ]
  },
  {
   "cell_type": "code",
   "execution_count": 52,
   "metadata": {},
   "outputs": [
    {
     "data": {
      "text/plain": [
       "'good'"
      ]
     },
     "execution_count": 52,
     "metadata": {},
     "output_type": "execute_result"
    }
   ],
   "source": [
    "correction('good')"
   ]
  },
  {
   "cell_type": "code",
   "execution_count": 4,
   "metadata": {},
   "outputs": [
    {
     "data": {
      "text/plain": [
       "'number'"
      ]
     },
     "execution_count": 4,
     "metadata": {},
     "output_type": "execute_result"
    }
   ],
   "source": [
    "correction('nmber')"
   ]
  },
  {
   "cell_type": "code",
   "execution_count": 54,
   "metadata": {},
   "outputs": [
    {
     "data": {
      "text/plain": [
       "'name'"
      ]
     },
     "execution_count": 54,
     "metadata": {},
     "output_type": "execute_result"
    }
   ],
   "source": [
    "correction('anme')"
   ]
  },
  {
   "cell_type": "code",
   "execution_count": null,
   "metadata": {},
   "outputs": [],
   "source": []
  },
  {
   "cell_type": "markdown",
   "metadata": {},
   "source": [
    "#### Method 2:"
   ]
  },
  {
   "cell_type": "code",
   "execution_count": 55,
   "metadata": {},
   "outputs": [],
   "source": [
    "import re\n",
    "import string\n",
    "from collections import Counter"
   ]
  },
  {
   "cell_type": "code",
   "execution_count": 56,
   "metadata": {},
   "outputs": [],
   "source": [
    "#Extracting the unique words from the big text and calculating their frequency\n",
    "WORDS = re.findall('[a-z]+', open('C:\\\\Users\\\\dell\\\\Downloads\\\\Assignment 1\\\\assignment 1\\\\big.txt').read().lower())\n",
    "count = Counter(WORDS)\n",
    "WORDS = set(WORDS)"
   ]
  },
  {
   "cell_type": "code",
   "execution_count": 57,
   "metadata": {},
   "outputs": [],
   "source": [
    "dictionary = {}\n",
    "\n",
    "# Words that are 1 character away from each word of the taken text\n",
    "def one_edit(word):\n",
    "    pairs   = set([(word[:i], word[i:]) for i in range(len(word)+1)] )   \n",
    "    return set([ a+b[1:] for (a, b) in pairs if b] )\n",
    "\n",
    "# Mapping incorrect words with the correct ones\n",
    "def mapping(): \n",
    "    for word in WORDS:\n",
    "        set1 = one_edit(word)\n",
    "        set2 = set([e2 for e1 in set1 for e2 in one_edit(e1)])\n",
    "        total_set = set1 or set2\n",
    "        \n",
    "        for key in total_set:\n",
    "            dictionary.setdefault(key,[]).append(word)\n",
    "    return \n",
    "\n",
    "mapping()"
   ]
  },
  {
   "cell_type": "code",
   "execution_count": 58,
   "metadata": {},
   "outputs": [],
   "source": [
    "def correction(wrong):\n",
    "    values = []\n",
    "    \n",
    "# If query is already present in the dictionary\n",
    "    if wrong in WORDS:\n",
    "         return wrong\n",
    "            \n",
    "# If query exists in new list of incorrect words\n",
    "    if wrong in dictionary.keys():\n",
    "            values.extend(dictionary[wrong])\n",
    "            \n",
    "# Finding incorrect alternatives for query and then repeating the same search for each of them\n",
    "    for word in one_edit(wrong):\n",
    "        if word in dictionary.keys():\n",
    "            values.extend(dictionary[word])\n",
    "           \n",
    "        if word in WORDS:\n",
    "            values.append(word)\n",
    "    \n",
    "# Finding the most appropriate correction from text\n",
    "    if values:\n",
    "        values = list(set(values))\n",
    "        values.sort(key = count.get, reverse = True)\n",
    "        print(\"The suggested correct word is: \",values[0])\n",
    "        return max(set(values), key=count.get)\n",
    "\n",
    "# If nothing is found\n",
    "    else: \n",
    "        return wrong          \n"
   ]
  },
  {
   "cell_type": "code",
   "execution_count": 59,
   "metadata": {},
   "outputs": [
    {
     "name": "stdout",
     "output_type": "stream",
     "text": [
      "The suggested correct word is:  bank\n"
     ]
    },
    {
     "data": {
      "text/plain": [
       "'bank'"
      ]
     },
     "execution_count": 59,
     "metadata": {},
     "output_type": "execute_result"
    }
   ],
   "source": [
    "correction('bnk')"
   ]
  },
  {
   "cell_type": "code",
   "execution_count": 60,
   "metadata": {},
   "outputs": [
    {
     "name": "stdout",
     "output_type": "stream",
     "text": [
      "The suggested correct word is:  what\n"
     ]
    },
    {
     "data": {
      "text/plain": [
       "'what'"
      ]
     },
     "execution_count": 60,
     "metadata": {},
     "output_type": "execute_result"
    }
   ],
   "source": [
    "correction('whst')"
   ]
  },
  {
   "cell_type": "code",
   "execution_count": 61,
   "metadata": {},
   "outputs": [
    {
     "name": "stdout",
     "output_type": "stream",
     "text": [
      "The suggested correct word is:  the\n"
     ]
    },
    {
     "data": {
      "text/plain": [
       "'the'"
      ]
     },
     "execution_count": 61,
     "metadata": {},
     "output_type": "execute_result"
    }
   ],
   "source": [
    "correction('teh')"
   ]
  },
  {
   "cell_type": "code",
   "execution_count": 62,
   "metadata": {},
   "outputs": [
    {
     "name": "stdout",
     "output_type": "stream",
     "text": [
      "The suggested correct word is:  number\n"
     ]
    },
    {
     "data": {
      "text/plain": [
       "'number'"
      ]
     },
     "execution_count": 62,
     "metadata": {},
     "output_type": "execute_result"
    }
   ],
   "source": [
    "correction('numbr')"
   ]
  },
  {
   "cell_type": "code",
   "execution_count": null,
   "metadata": {},
   "outputs": [],
   "source": []
  },
  {
   "cell_type": "code",
   "execution_count": null,
   "metadata": {},
   "outputs": [],
   "source": []
  }
 ],
 "metadata": {
  "kernelspec": {
   "display_name": "Python 3",
   "language": "python",
   "name": "python3"
  },
  "language_info": {
   "codemirror_mode": {
    "name": "ipython",
    "version": 3
   },
   "file_extension": ".py",
   "mimetype": "text/x-python",
   "name": "python",
   "nbconvert_exporter": "python",
   "pygments_lexer": "ipython3",
   "version": "3.6.8"
  }
 },
 "nbformat": 4,
 "nbformat_minor": 2
}
